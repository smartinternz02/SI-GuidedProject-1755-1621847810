{
  "nbformat": 4,
  "nbformat_minor": 0,
  "metadata": {
    "kernelspec": {
      "display_name": "Python 3",
      "language": "python",
      "name": "python3"
    },
    "language_info": {
      "codemirror_mode": {
        "name": "ipython",
        "version": 3
      },
      "file_extension": ".py",
      "mimetype": "text/x-python",
      "name": "python",
      "nbconvert_exporter": "python",
      "pygments_lexer": "ipython3",
      "version": "3.7.7"
    },
    "colab": {
      "name": "Assign_Algorithms_on_Diabetes.ipynb",
      "provenance": [],
      "collapsed_sections": []
    }
  },
  "cells": [
    {
      "cell_type": "code",
      "metadata": {
        "id": "CPpzosgtRoor"
      },
      "source": [
        "import numpy as np\n",
        "import pandas as pd\n",
        "import matplotlib.pyplot as plt\n",
        "import seaborn as sns"
      ],
      "execution_count": null,
      "outputs": []
    },
    {
      "cell_type": "code",
      "metadata": {
        "id": "hM846QTCRoos"
      },
      "source": [
        "df = pd.read_csv('diabetes.csv')\n",
        "x = df.iloc[:,:-1].values\n",
        "y = df.iloc[:,-1].values"
      ],
      "execution_count": null,
      "outputs": []
    },
    {
      "cell_type": "code",
      "metadata": {
        "id": "s3EWZBHqRoos",
        "outputId": "e1ba3295-613a-442f-f671-d71eb03777a2"
      },
      "source": [
        "df.head(5)\n",
        "df.describe()"
      ],
      "execution_count": null,
      "outputs": [
        {
          "output_type": "execute_result",
          "data": {
            "text/html": [
              "<div>\n",
              "<style scoped>\n",
              "    .dataframe tbody tr th:only-of-type {\n",
              "        vertical-align: middle;\n",
              "    }\n",
              "\n",
              "    .dataframe tbody tr th {\n",
              "        vertical-align: top;\n",
              "    }\n",
              "\n",
              "    .dataframe thead th {\n",
              "        text-align: right;\n",
              "    }\n",
              "</style>\n",
              "<table border=\"1\" class=\"dataframe\">\n",
              "  <thead>\n",
              "    <tr style=\"text-align: right;\">\n",
              "      <th></th>\n",
              "      <th>Pregnancies</th>\n",
              "      <th>Glucose</th>\n",
              "      <th>BloodPressure</th>\n",
              "      <th>SkinThickness</th>\n",
              "      <th>Insulin</th>\n",
              "      <th>BMI</th>\n",
              "      <th>DiabetesPedigreeFunction</th>\n",
              "      <th>Age</th>\n",
              "    </tr>\n",
              "  </thead>\n",
              "  <tbody>\n",
              "    <tr>\n",
              "      <th>count</th>\n",
              "      <td>549.000000</td>\n",
              "      <td>549.000000</td>\n",
              "      <td>549.000000</td>\n",
              "      <td>549.000000</td>\n",
              "      <td>549.000000</td>\n",
              "      <td>549.000000</td>\n",
              "      <td>549.000000</td>\n",
              "      <td>549.000000</td>\n",
              "    </tr>\n",
              "    <tr>\n",
              "      <th>mean</th>\n",
              "      <td>3.996357</td>\n",
              "      <td>125.016393</td>\n",
              "      <td>69.506375</td>\n",
              "      <td>20.965392</td>\n",
              "      <td>84.947177</td>\n",
              "      <td>32.677778</td>\n",
              "      <td>0.495443</td>\n",
              "      <td>34.105647</td>\n",
              "    </tr>\n",
              "    <tr>\n",
              "      <th>std</th>\n",
              "      <td>3.514307</td>\n",
              "      <td>32.113930</td>\n",
              "      <td>20.031874</td>\n",
              "      <td>16.311651</td>\n",
              "      <td>117.003505</td>\n",
              "      <td>7.866810</td>\n",
              "      <td>0.341139</td>\n",
              "      <td>12.005768</td>\n",
              "    </tr>\n",
              "    <tr>\n",
              "      <th>min</th>\n",
              "      <td>0.000000</td>\n",
              "      <td>0.000000</td>\n",
              "      <td>0.000000</td>\n",
              "      <td>0.000000</td>\n",
              "      <td>0.000000</td>\n",
              "      <td>0.000000</td>\n",
              "      <td>0.085000</td>\n",
              "      <td>21.000000</td>\n",
              "    </tr>\n",
              "    <tr>\n",
              "      <th>25%</th>\n",
              "      <td>1.000000</td>\n",
              "      <td>101.000000</td>\n",
              "      <td>64.000000</td>\n",
              "      <td>0.000000</td>\n",
              "      <td>0.000000</td>\n",
              "      <td>27.800000</td>\n",
              "      <td>0.252000</td>\n",
              "      <td>25.000000</td>\n",
              "    </tr>\n",
              "    <tr>\n",
              "      <th>50%</th>\n",
              "      <td>3.000000</td>\n",
              "      <td>121.000000</td>\n",
              "      <td>72.000000</td>\n",
              "      <td>24.000000</td>\n",
              "      <td>41.000000</td>\n",
              "      <td>32.700000</td>\n",
              "      <td>0.402000</td>\n",
              "      <td>30.000000</td>\n",
              "    </tr>\n",
              "    <tr>\n",
              "      <th>75%</th>\n",
              "      <td>6.000000</td>\n",
              "      <td>146.000000</td>\n",
              "      <td>80.000000</td>\n",
              "      <td>33.000000</td>\n",
              "      <td>140.000000</td>\n",
              "      <td>37.200000</td>\n",
              "      <td>0.652000</td>\n",
              "      <td>41.000000</td>\n",
              "    </tr>\n",
              "    <tr>\n",
              "      <th>max</th>\n",
              "      <td>17.000000</td>\n",
              "      <td>199.000000</td>\n",
              "      <td>114.000000</td>\n",
              "      <td>99.000000</td>\n",
              "      <td>846.000000</td>\n",
              "      <td>67.100000</td>\n",
              "      <td>2.420000</td>\n",
              "      <td>81.000000</td>\n",
              "    </tr>\n",
              "  </tbody>\n",
              "</table>\n",
              "</div>"
            ],
            "text/plain": [
              "       Pregnancies     Glucose  BloodPressure  SkinThickness     Insulin  \\\n",
              "count   549.000000  549.000000     549.000000     549.000000  549.000000   \n",
              "mean      3.996357  125.016393      69.506375      20.965392   84.947177   \n",
              "std       3.514307   32.113930      20.031874      16.311651  117.003505   \n",
              "min       0.000000    0.000000       0.000000       0.000000    0.000000   \n",
              "25%       1.000000  101.000000      64.000000       0.000000    0.000000   \n",
              "50%       3.000000  121.000000      72.000000      24.000000   41.000000   \n",
              "75%       6.000000  146.000000      80.000000      33.000000  140.000000   \n",
              "max      17.000000  199.000000     114.000000      99.000000  846.000000   \n",
              "\n",
              "              BMI  DiabetesPedigreeFunction         Age  \n",
              "count  549.000000                549.000000  549.000000  \n",
              "mean    32.677778                  0.495443   34.105647  \n",
              "std      7.866810                  0.341139   12.005768  \n",
              "min      0.000000                  0.085000   21.000000  \n",
              "25%     27.800000                  0.252000   25.000000  \n",
              "50%     32.700000                  0.402000   30.000000  \n",
              "75%     37.200000                  0.652000   41.000000  \n",
              "max     67.100000                  2.420000   81.000000  "
            ]
          },
          "metadata": {
            "tags": []
          },
          "execution_count": 171
        }
      ]
    },
    {
      "cell_type": "code",
      "metadata": {
        "id": "ApPJEuCCRoot"
      },
      "source": [
        "from sklearn.preprocessing import StandardScaler\n",
        "sc = StandardScaler()\n",
        "x = sc.fit_transform(x)\n"
      ],
      "execution_count": null,
      "outputs": []
    },
    {
      "cell_type": "code",
      "metadata": {
        "id": "8qSBj8SrRoot",
        "outputId": "e28b3065-b1ea-4383-c267-5e959b9a34e9"
      },
      "source": [
        "import random\n",
        "from sklearn.preprocessing import LabelEncoder\n",
        "le=LabelEncoder()\n",
        "y=le.fit_transform(y)\n",
        "\n",
        "sns.heatmap(df.corr(), annot = True)\n"
      ],
      "execution_count": null,
      "outputs": [
        {
          "output_type": "execute_result",
          "data": {
            "text/plain": [
              "<AxesSubplot:>"
            ]
          },
          "metadata": {
            "tags": []
          },
          "execution_count": 173
        },
        {
          "output_type": "display_data",
          "data": {
            "image/png": "[encoded data removed]",
            "text/plain": [
              "<Figure size 432x288 with 2 Axes>"
            ]
          },
          "metadata": {
            "tags": [],
            "needs_background": "light"
          }
        }
      ]
    },
    {
      "cell_type": "code",
      "metadata": {
        "id": "VDXLbvQFRoou"
      },
      "source": [
        "from sklearn.model_selection import train_test_split \n",
        "x_tr,x_te,y_tr,y_te=train_test_split(x,y,test_size=0.15,random_state=50)\n",
        "random.seed(1234)"
      ],
      "execution_count": null,
      "outputs": []
    },
    {
      "cell_type": "markdown",
      "metadata": {
        "id": "PAOrXdtLRoou"
      },
      "source": [
        "# Naive Bayes"
      ]
    },
    {
      "cell_type": "code",
      "metadata": {
        "id": "hRQFRXy-Roov",
        "outputId": "10be3b75-41a3-4f9b-fcf8-c0780b8f4cee"
      },
      "source": [
        "from sklearn.naive_bayes import GaussianNB\n",
        "classifier = GaussianNB()\n",
        "classifier.fit(x_tr, y_tr)"
      ],
      "execution_count": null,
      "outputs": [
        {
          "output_type": "execute_result",
          "data": {
            "text/plain": [
              "GaussianNB()"
            ]
          },
          "metadata": {
            "tags": []
          },
          "execution_count": 175
        }
      ]
    },
    {
      "cell_type": "code",
      "metadata": {
        "id": "o6a6GS2-Roov",
        "outputId": "adbdf83c-f039-49e0-c84a-12a62ae9b35b"
      },
      "source": [
        "y_pred  =  classifier.predict(x_te)\n",
        "print(\"y_pred\")\n",
        "print(y_pred)\n",
        "print(\"y_te\")\n",
        "print(y_te)"
      ],
      "execution_count": null,
      "outputs": [
        {
          "output_type": "stream",
          "text": [
            "y_pred\n",
            "[1 1 1 1 0 0 0 0 0 1 0 0 1 0 0 1 1 0 0 1 0 1 1 1 0 0 1 0 0 0 1 0 0 1 1 0 0\n",
            " 0 0 1 0 0 1 1 1 0 0 0 0 1 0 1 1 0 1 0 0 0 0 0 0 0 1 1 0 0 1 1 0 0 0 0 1 1\n",
            " 1 0 0 1 1 0 1 1 0]\n",
            "y_te\n",
            "[1 1 0 1 0 0 0 0 0 1 0 0 1 0 1 1 1 0 1 1 0 1 1 1 1 0 1 0 0 0 0 0 0 1 1 0 0\n",
            " 0 0 1 0 0 1 1 1 0 0 0 0 0 1 1 1 1 1 1 0 0 1 0 0 0 1 1 0 0 0 1 0 0 0 1 1 0\n",
            " 1 0 0 1 1 0 1 1 0]\n"
          ],
          "name": "stdout"
        }
      ]
    },
    {
      "cell_type": "code",
      "metadata": {
        "scrolled": true,
        "id": "GljiocpLRoow",
        "outputId": "68f4d61c-2e36-4f8a-d035-ac53a1ebacef"
      },
      "source": [
        "from sklearn.metrics import confusion_matrix,accuracy_score,plot_confusion_matrix\n",
        "print('Confusion matrix :',confusion_matrix(y_te, y_pred))\n",
        "print('\\n')\n",
        "print('Accuracy score : {:.2f}'.format(accuracy_score(y_te,y_pred)))\n",
        "plot_confusion_matrix(classifier,x_te,y_te)"
      ],
      "execution_count": null,
      "outputs": [
        {
          "output_type": "stream",
          "text": [
            "Confusion matrix : [[40  5]\n",
            " [ 8 30]]\n",
            "\n",
            "\n",
            "Accuracy score : 0.84\n"
          ],
          "name": "stdout"
        },
        {
          "output_type": "execute_result",
          "data": {
            "text/plain": [
              "<sklearn.metrics._plot.confusion_matrix.ConfusionMatrixDisplay at 0x2179c568808>"
            ]
          },
          "metadata": {
            "tags": []
          },
          "execution_count": 177
        },
        {
          "output_type": "display_data",
          "data": {
            "image/png": "[encoded data removed]",
            "text/plain": [
              "<Figure size 432x288 with 2 Axes>"
            ]
          },
          "metadata": {
            "tags": [],
            "needs_background": "light"
          }
        }
      ]
    },
    {
      "cell_type": "markdown",
      "metadata": {
        "id": "qqecnxjVRoow"
      },
      "source": [
        "# Support Vector Machine "
      ]
    },
    {
      "cell_type": "code",
      "metadata": {
        "id": "8tsvpcLURoox",
        "outputId": "3e810f5b-c86d-418e-97d8-8d28ddea5c1c"
      },
      "source": [
        "from sklearn.svm import SVC\n",
        "clf = SVC(kernel='rbf')\n",
        "svm_clf = clf.fit(x_tr,y_tr)\n",
        "\n",
        "y_pred = svm_clf.predict(x_te)\n",
        "print(y_pred)"
      ],
      "execution_count": null,
      "outputs": [
        {
          "output_type": "stream",
          "text": [
            "[1 1 1 1 0 0 0 0 0 1 0 0 1 0 0 1 1 0 0 1 0 1 0 1 1 0 1 0 0 0 0 0 0 1 1 0 0\n",
            " 0 0 1 0 0 1 1 1 0 0 0 0 1 0 1 1 0 1 1 0 0 0 0 0 0 1 1 0 0 1 1 0 0 0 0 1 1\n",
            " 1 0 0 1 1 0 1 1 0]\n"
          ],
          "name": "stdout"
        }
      ]
    },
    {
      "cell_type": "code",
      "metadata": {
        "id": "6RcDXVtzRoox",
        "outputId": "a9225349-a64e-4da6-9a7e-b37b599e99ec"
      },
      "source": [
        "print(y_te)"
      ],
      "execution_count": null,
      "outputs": [
        {
          "output_type": "stream",
          "text": [
            "[1 1 0 1 0 0 0 0 0 1 0 0 1 0 1 1 1 0 1 1 0 1 1 1 1 0 1 0 0 0 0 0 0 1 1 0 0\n",
            " 0 0 1 0 0 1 1 1 0 0 0 0 0 1 1 1 1 1 1 0 0 1 0 0 0 1 1 0 0 0 1 0 0 0 1 1 0\n",
            " 1 0 0 1 1 0 1 1 0]\n"
          ],
          "name": "stdout"
        }
      ]
    },
    {
      "cell_type": "code",
      "metadata": {
        "scrolled": true,
        "id": "YR1itXxWRoox",
        "outputId": "bb2b89a9-ae20-4d24-859d-7de45c25fb93"
      },
      "source": [
        "from sklearn.metrics import confusion_matrix,plot_confusion_matrix\n",
        "print(confusion_matrix(y_te,y_pred)) \n",
        "plot_confusion_matrix(clf,x_te,y_te)"
      ],
      "execution_count": null,
      "outputs": [
        {
          "output_type": "stream",
          "text": [
            "[[41  4]\n",
            " [ 7 31]]\n"
          ],
          "name": "stdout"
        },
        {
          "output_type": "execute_result",
          "data": {
            "text/plain": [
              "<sklearn.metrics._plot.confusion_matrix.ConfusionMatrixDisplay at 0x2179c3efc48>"
            ]
          },
          "metadata": {
            "tags": []
          },
          "execution_count": 180
        },
        {
          "output_type": "display_data",
          "data": {
            "image/png": "[encoded data removed]",
            "text/plain": [
              "<Figure size 432x288 with 2 Axes>"
            ]
          },
          "metadata": {
            "tags": [],
            "needs_background": "light"
          }
        }
      ]
    },
    {
      "cell_type": "code",
      "metadata": {
        "id": "3MPn9O14Rooy",
        "outputId": "2e618822-3e0d-4100-e5f8-9b865898a57c"
      },
      "source": [
        "from sklearn.metrics import accuracy_score\n",
        "print('Accuracy : {:.2f}'.format(accuracy_score(y_te,y_pred)))"
      ],
      "execution_count": null,
      "outputs": [
        {
          "output_type": "stream",
          "text": [
            "Accuracy : 0.87\n"
          ],
          "name": "stdout"
        }
      ]
    },
    {
      "cell_type": "code",
      "metadata": {
        "id": "Tvn4FL1PRooy",
        "outputId": "6aae9029-9ec6-4b8d-f4f8-b09e567d02d8"
      },
      "source": [
        "from sklearn.metrics import precision_score\n",
        "print(precision_score(y_te, y_pred, average='weighted'))"
      ],
      "execution_count": null,
      "outputs": [
        {
          "output_type": "stream",
          "text": [
            "0.8686101549053357\n"
          ],
          "name": "stdout"
        }
      ]
    },
    {
      "cell_type": "markdown",
      "metadata": {
        "id": "7owaClAORooz"
      },
      "source": [
        "# Ada Boost classification"
      ]
    },
    {
      "cell_type": "code",
      "metadata": {
        "id": "fmRDVvAlRooz",
        "outputId": "212287b3-302e-4bf5-c09f-539672514af1"
      },
      "source": [
        "from sklearn import model_selection\n",
        "from sklearn.ensemble import AdaBoostClassifier\n",
        "kfold = model_selection.KFold(n_splits=6, random_state=8)\n",
        "clf = AdaBoostClassifier(n_estimators=20, random_state=8)\n",
        "results = model_selection.cross_val_score(model, x_tr, y_tr, cv=kfold)"
      ],
      "execution_count": null,
      "outputs": [
        {
          "output_type": "stream",
          "text": [
            "C:\\Users\\motur\\Anaconda3\\lib\\site-packages\\sklearn\\model_selection\\_split.py:297: FutureWarning: Setting a random_state has no effect since shuffle is False. This will raise an error in 0.24. You should leave random_state to its default (None), or set shuffle=True.\n",
            "  FutureWarning\n"
          ],
          "name": "stderr"
        }
      ]
    },
    {
      "cell_type": "code",
      "metadata": {
        "id": "tVf7cE5cRooz",
        "outputId": "b4446711-81ac-40b0-f516-f0f6b190df9b"
      },
      "source": [
        "print(results)\n",
        "print(results.mean())"
      ],
      "execution_count": null,
      "outputs": [
        {
          "output_type": "stream",
          "text": [
            "[0.78205128 0.74358974 0.73076923 0.73076923 0.80519481 0.7012987 ]\n",
            "0.748945498945499\n"
          ],
          "name": "stdout"
        }
      ]
    },
    {
      "cell_type": "code",
      "metadata": {
        "id": "X6R8OKNdRooz",
        "outputId": "ea43146b-5057-4896-c02b-4d438dea0210"
      },
      "source": [
        "clf.fit(x_tr, y_tr)"
      ],
      "execution_count": null,
      "outputs": [
        {
          "output_type": "execute_result",
          "data": {
            "text/plain": [
              "AdaBoostClassifier(n_estimators=20, random_state=8)"
            ]
          },
          "metadata": {
            "tags": []
          },
          "execution_count": 185
        }
      ]
    },
    {
      "cell_type": "code",
      "metadata": {
        "id": "ORIt7LG_Roo0",
        "outputId": "b08ea87f-77d2-44b7-9bad-8249e26bed5e"
      },
      "source": [
        " y_pred=clf.predict(x_te)\n",
        "print(y_pred)"
      ],
      "execution_count": null,
      "outputs": [
        {
          "output_type": "stream",
          "text": [
            "[1 1 1 1 0 0 0 0 0 1 0 0 1 0 0 1 1 0 0 1 0 1 1 1 1 0 1 0 0 0 0 0 0 1 1 0 0\n",
            " 0 0 0 0 0 1 1 1 0 0 0 0 1 1 1 1 0 0 0 0 0 0 0 0 1 1 1 1 0 1 1 0 0 0 0 1 1\n",
            " 0 0 0 1 1 0 1 1 0]\n"
          ],
          "name": "stdout"
        }
      ]
    },
    {
      "cell_type": "code",
      "metadata": {
        "id": "U7XVhxR3Roo0",
        "outputId": "ef11bc35-4a77-4c35-df99-00b5a521e796"
      },
      "source": [
        "print(confusion_matrix(y_te,y_pred))\n",
        "plot_confusion_matrix(clf,x_te,y_te)\n",
        "print('Accuracy : {:.2f}'.format(accuracy_score(y_te,y_pred)))"
      ],
      "execution_count": null,
      "outputs": [
        {
          "output_type": "stream",
          "text": [
            "[[39  6]\n",
            " [ 9 29]]\n",
            "Accuracy : 0.82\n"
          ],
          "name": "stdout"
        },
        {
          "output_type": "display_data",
          "data": {
            "image/png": "[encoded data removed]",
            "text/plain": [
              "<Figure size 432x288 with 2 Axes>"
            ]
          },
          "metadata": {
            "tags": [],
            "needs_background": "light"
          }
        }
      ]
    },
    {
      "cell_type": "markdown",
      "metadata": {
        "id": "ma_E2zvDRoo0"
      },
      "source": [
        "# Decision Tree"
      ]
    },
    {
      "cell_type": "code",
      "metadata": {
        "id": "y6ZV2f-PRoo0",
        "outputId": "8100bd91-3939-4ac5-aed2-04bf37baf104"
      },
      "source": [
        "from sklearn.tree import DecisionTreeClassifier\n",
        "clf = DecisionTreeClassifier()\n",
        "clf.fit(x_tr,y_tr)\n",
        "y_pred = clf.predict(x_te)\n",
        "\n",
        "print(y_pred)"
      ],
      "execution_count": null,
      "outputs": [
        {
          "output_type": "stream",
          "text": [
            "[1 1 1 1 0 0 0 0 0 1 1 1 1 0 1 1 1 0 1 1 0 1 1 0 1 0 1 0 0 0 0 0 0 1 1 0 0\n",
            " 0 1 0 0 0 1 0 1 0 1 0 0 1 1 0 1 0 0 0 1 0 0 0 0 0 1 1 0 0 1 0 0 0 1 1 1 0\n",
            " 1 0 0 1 1 0 1 1 0]\n"
          ],
          "name": "stdout"
        }
      ]
    },
    {
      "cell_type": "code",
      "metadata": {
        "scrolled": true,
        "id": "w7hyNKL2Roo1",
        "outputId": "3343bbd9-e485-42bb-86d5-832716b63154"
      },
      "source": [
        "print(confusion_matrix(y_te,y_pred))\n",
        "plot_confusion_matrix(clf,x_te,y_te)\n",
        "print('Accuracy : {:.2f}'.format(accuracy_score(y_te,y_pred)))"
      ],
      "execution_count": null,
      "outputs": [
        {
          "output_type": "stream",
          "text": [
            "[[36  9]\n",
            " [ 9 29]]\n",
            "Accuracy : 0.78\n"
          ],
          "name": "stdout"
        },
        {
          "output_type": "display_data",
          "data": {
            "image/png": "[encoded data removed]",
            "text/plain": [
              "<Figure size 432x288 with 2 Axes>"
            ]
          },
          "metadata": {
            "tags": [],
            "needs_background": "light"
          }
        }
      ]
    },
    {
      "cell_type": "markdown",
      "metadata": {
        "id": "vbJ6o1AlRoo1"
      },
      "source": [
        "# Random Forest Classifier"
      ]
    },
    {
      "cell_type": "code",
      "metadata": {
        "id": "7CPbGrDeRoo1",
        "outputId": "40756162-66d0-4bf5-d156-234ff31d1a4e"
      },
      "source": [
        "from sklearn.ensemble import RandomForestClassifier\n",
        "clf = RandomForestClassifier(n_estimators=250)\n",
        "clf.fit(x_tr,y_tr)\n",
        "y_pred = clf.predict(x_te)\n",
        "print(y_pred)"
      ],
      "execution_count": null,
      "outputs": [
        {
          "output_type": "stream",
          "text": [
            "[1 1 1 1 0 0 0 0 0 1 0 1 1 0 0 1 1 0 1 1 0 1 1 1 0 0 1 0 0 1 0 0 0 1 1 0 0\n",
            " 0 0 1 0 0 1 1 1 0 0 0 0 1 1 1 1 0 1 0 0 0 0 0 0 1 1 1 0 0 1 1 0 0 0 0 1 1\n",
            " 1 0 0 1 0 0 1 1 0]\n"
          ],
          "name": "stdout"
        }
      ]
    },
    {
      "cell_type": "code",
      "metadata": {
        "id": "_b14pkcdRoo2",
        "outputId": "57aacbb1-0654-4e83-b8b4-fbebb1b4e728"
      },
      "source": [
        "print(confusion_matrix(y_te,y_pred))\n",
        "plot_confusion_matrix(clf,x_te,y_te)\n",
        "print('Accuracy : {:.2f}'.format(accuracy_score(y_te,y_pred)))"
      ],
      "execution_count": null,
      "outputs": [
        {
          "output_type": "stream",
          "text": [
            "[[38  7]\n",
            " [ 7 31]]\n",
            "Accuracy : 0.83\n"
          ],
          "name": "stdout"
        },
        {
          "output_type": "display_data",
          "data": {
            "image/png": "[encoded data removed]",
            "text/plain": [
              "<Figure size 432x288 with 2 Axes>"
            ]
          },
          "metadata": {
            "tags": [],
            "needs_background": "light"
          }
        }
      ]
    },
    {
      "cell_type": "code",
      "metadata": {
        "id": "ugi9Dlw6RqVB"
      },
      "source": [
        "Interpretation:\n",
        "In daibetes dataset, as the columns have huge difference b/w one another,\n",
        "I applied standard Scaler to the dataset(x i.e. independent variables).\n",
        "And the dependent variable i.e. y is encoded using label encoder,thus\n",
        "converting the labels into numeric form.\n",
        "later we split the data into test and train sets.\n",
        "After certian steps we apply various classification models on test and train data  and obtain accuracy Score for each model.\n",
        "\n",
        "Acuracies of different Algorithms on diabetes dataset:\n",
        "Naive Bayes - 0.84\n",
        "Support Vector Machine - 0.87\n",
        "Ada Boost - 0.82\n",
        "Decision Tree - 0.78\n",
        "Random Forest Classifier - 0.83"
      ],
      "execution_count": null,
      "outputs": []
    },
    {
      "cell_type": "markdown",
      "metadata": {
        "id": "nehFLq7hRrhN"
      },
      "source": [
        ""
      ]
    }
  ]
}