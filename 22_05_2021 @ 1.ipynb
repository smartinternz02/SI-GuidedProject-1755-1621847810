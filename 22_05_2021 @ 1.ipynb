{
 "cells": [
  {
   "cell_type": "code",
   "execution_count": 1,
   "metadata": {},
   "outputs": [],
   "source": [
    "import pandas as pd\n",
    "import numpy as np\n",
    "import matplotlib.pyplot as plt\n",
    "import seaborn as sns"
   ]
  },
  {
   "cell_type": "code",
   "execution_count": 2,
   "metadata": {},
   "outputs": [],
   "source": [
    "df=pd.read_csv('bank.csv')"
   ]
  },
  {
   "cell_type": "code",
   "execution_count": 3,
   "metadata": {},
   "outputs": [
    {
     "data": {
      "text/html": [
       "<div>\n",
       "<style scoped>\n",
       "    .dataframe tbody tr th:only-of-type {\n",
       "        vertical-align: middle;\n",
       "    }\n",
       "\n",
       "    .dataframe tbody tr th {\n",
       "        vertical-align: top;\n",
       "    }\n",
       "\n",
       "    .dataframe thead th {\n",
       "        text-align: right;\n",
       "    }\n",
       "</style>\n",
       "<table border=\"1\" class=\"dataframe\">\n",
       "  <thead>\n",
       "    <tr style=\"text-align: right;\">\n",
       "      <th></th>\n",
       "      <th>age</th>\n",
       "      <th>job</th>\n",
       "      <th>marital</th>\n",
       "      <th>education</th>\n",
       "      <th>default</th>\n",
       "      <th>balance</th>\n",
       "      <th>housing</th>\n",
       "      <th>loan</th>\n",
       "      <th>contact</th>\n",
       "      <th>day</th>\n",
       "      <th>month</th>\n",
       "      <th>duration</th>\n",
       "      <th>campaign</th>\n",
       "      <th>pdays</th>\n",
       "      <th>previous</th>\n",
       "      <th>poutcome</th>\n",
       "      <th>deposit</th>\n",
       "    </tr>\n",
       "  </thead>\n",
       "  <tbody>\n",
       "    <tr>\n",
       "      <th>0</th>\n",
       "      <td>59</td>\n",
       "      <td>admin.</td>\n",
       "      <td>married</td>\n",
       "      <td>secondary</td>\n",
       "      <td>no</td>\n",
       "      <td>2343</td>\n",
       "      <td>yes</td>\n",
       "      <td>no</td>\n",
       "      <td>unknown</td>\n",
       "      <td>5</td>\n",
       "      <td>may</td>\n",
       "      <td>1042</td>\n",
       "      <td>1</td>\n",
       "      <td>-1</td>\n",
       "      <td>0</td>\n",
       "      <td>unknown</td>\n",
       "      <td>yes</td>\n",
       "    </tr>\n",
       "    <tr>\n",
       "      <th>1</th>\n",
       "      <td>56</td>\n",
       "      <td>admin.</td>\n",
       "      <td>married</td>\n",
       "      <td>secondary</td>\n",
       "      <td>no</td>\n",
       "      <td>45</td>\n",
       "      <td>no</td>\n",
       "      <td>no</td>\n",
       "      <td>unknown</td>\n",
       "      <td>5</td>\n",
       "      <td>may</td>\n",
       "      <td>1467</td>\n",
       "      <td>1</td>\n",
       "      <td>-1</td>\n",
       "      <td>0</td>\n",
       "      <td>unknown</td>\n",
       "      <td>yes</td>\n",
       "    </tr>\n",
       "    <tr>\n",
       "      <th>2</th>\n",
       "      <td>41</td>\n",
       "      <td>technician</td>\n",
       "      <td>married</td>\n",
       "      <td>secondary</td>\n",
       "      <td>no</td>\n",
       "      <td>1270</td>\n",
       "      <td>yes</td>\n",
       "      <td>no</td>\n",
       "      <td>unknown</td>\n",
       "      <td>5</td>\n",
       "      <td>may</td>\n",
       "      <td>1389</td>\n",
       "      <td>1</td>\n",
       "      <td>-1</td>\n",
       "      <td>0</td>\n",
       "      <td>unknown</td>\n",
       "      <td>yes</td>\n",
       "    </tr>\n",
       "    <tr>\n",
       "      <th>3</th>\n",
       "      <td>55</td>\n",
       "      <td>services</td>\n",
       "      <td>married</td>\n",
       "      <td>secondary</td>\n",
       "      <td>no</td>\n",
       "      <td>2476</td>\n",
       "      <td>yes</td>\n",
       "      <td>no</td>\n",
       "      <td>unknown</td>\n",
       "      <td>5</td>\n",
       "      <td>may</td>\n",
       "      <td>579</td>\n",
       "      <td>1</td>\n",
       "      <td>-1</td>\n",
       "      <td>0</td>\n",
       "      <td>unknown</td>\n",
       "      <td>yes</td>\n",
       "    </tr>\n",
       "    <tr>\n",
       "      <th>4</th>\n",
       "      <td>54</td>\n",
       "      <td>admin.</td>\n",
       "      <td>married</td>\n",
       "      <td>tertiary</td>\n",
       "      <td>no</td>\n",
       "      <td>184</td>\n",
       "      <td>no</td>\n",
       "      <td>no</td>\n",
       "      <td>unknown</td>\n",
       "      <td>5</td>\n",
       "      <td>may</td>\n",
       "      <td>673</td>\n",
       "      <td>2</td>\n",
       "      <td>-1</td>\n",
       "      <td>0</td>\n",
       "      <td>unknown</td>\n",
       "      <td>yes</td>\n",
       "    </tr>\n",
       "  </tbody>\n",
       "</table>\n",
       "</div>"
      ],
      "text/plain": [
       "   age         job  marital  education default  balance housing loan  contact  \\\n",
       "0   59      admin.  married  secondary      no     2343     yes   no  unknown   \n",
       "1   56      admin.  married  secondary      no       45      no   no  unknown   \n",
       "2   41  technician  married  secondary      no     1270     yes   no  unknown   \n",
       "3   55    services  married  secondary      no     2476     yes   no  unknown   \n",
       "4   54      admin.  married   tertiary      no      184      no   no  unknown   \n",
       "\n",
       "   day month  duration  campaign  pdays  previous poutcome deposit  \n",
       "0    5   may      1042         1     -1         0  unknown     yes  \n",
       "1    5   may      1467         1     -1         0  unknown     yes  \n",
       "2    5   may      1389         1     -1         0  unknown     yes  \n",
       "3    5   may       579         1     -1         0  unknown     yes  \n",
       "4    5   may       673         2     -1         0  unknown     yes  "
      ]
     },
     "execution_count": 3,
     "metadata": {},
     "output_type": "execute_result"
    }
   ],
   "source": [
    "df.head(5)"
   ]
  },
  {
   "cell_type": "code",
   "execution_count": 4,
   "metadata": {},
   "outputs": [],
   "source": [
    "from sklearn.preprocessing import LabelEncoder\n",
    "le=LabelEncoder()\n",
    "df['default'] = le.fit_transform(df['default'])\n",
    "df['housing'] = le.fit_transform(df['housing'])\n",
    "df['loan'] = le.fit_transform(df['loan'])\n",
    "df['deposit'] = le.fit_transform(df['deposit'])"
   ]
  },
  {
   "cell_type": "code",
   "execution_count": 5,
   "metadata": {},
   "outputs": [],
   "source": [
    "x=df.iloc[:,:-1].values\n",
    "y=df.iloc[:,-1].values"
   ]
  },
  {
   "cell_type": "code",
   "execution_count": 6,
   "metadata": {},
   "outputs": [],
   "source": [
    "from sklearn.preprocessing import OneHotEncoder\n",
    "from sklearn.compose import ColumnTransformer\n",
    "ct = ColumnTransformer(transformers=[('encoder',OneHotEncoder(),[1,2,3,8,10,15])],remainder = 'passthrough')\n",
    "x = ct.fit_transform(x)"
   ]
  },
  {
   "cell_type": "code",
   "execution_count": 7,
   "metadata": {},
   "outputs": [],
   "source": [
    "from sklearn.preprocessing import StandardScaler\n",
    "sc = StandardScaler()\n",
    "x = sc.fit_transform(x)"
   ]
  },
  {
   "cell_type": "code",
   "execution_count": 8,
   "metadata": {},
   "outputs": [],
   "source": [
    "from sklearn.model_selection import train_test_split\n",
    "x_tr,x_te,y_tr,y_te = train_test_split(x,y,test_size=0.2,random_state=0)\n"
   ]
  },
  {
   "cell_type": "markdown",
   "metadata": {},
   "source": [
    "# SVM "
   ]
  },
  {
   "cell_type": "code",
   "execution_count": 9,
   "metadata": {},
   "outputs": [
    {
     "name": "stdout",
     "output_type": "stream",
     "text": [
      "[[1003  202]\n",
      " [ 134  894]]\n",
      "Accuracy is 0.85\n"
     ]
    },
    {
     "data": {
      "text/plain": [
       "<sklearn.metrics._plot.confusion_matrix.ConfusionMatrixDisplay at 0x214052e48c8>"
      ]
     },
     "execution_count": 9,
     "metadata": {},
     "output_type": "execute_result"
    },
    {
     "data": {
      "image/png": "[encoded data removed]",
      "text/plain": [
       "<Figure size 432x288 with 2 Axes>"
      ]
     },
     "metadata": {
      "needs_background": "light"
     },
     "output_type": "display_data"
    }
   ],
   "source": [
    "from sklearn.svm import SVC\n",
    "sc = SVC(kernel='rbf')\n",
    "clf = sc.fit(x_tr,y_tr)\n",
    "y_pred = clf.predict(x_te)\n",
    "\n",
    "from sklearn.metrics import accuracy_score,confusion_matrix,plot_confusion_matrix\n",
    "print(confusion_matrix(y_te,y_pred))\n",
    "print('Accuracy is {:.2f}'.format(accuracy_score(y_te,y_pred)))\n",
    "plot_confusion_matrix(clf,x_te,y_te)"
   ]
  },
  {
   "cell_type": "markdown",
   "metadata": {},
   "source": [
    "# Naive Bayes"
   ]
  },
  {
   "cell_type": "code",
   "execution_count": 11,
   "metadata": {
    "scrolled": false
   },
   "outputs": [
    {
     "name": "stdout",
     "output_type": "stream",
     "text": [
      "[[1049  156]\n",
      " [ 472  556]]\n",
      "Accuracy is 0.72\n"
     ]
    },
    {
     "data": {
      "image/png": "[encoded data removed]",
      "text/plain": [
       "<Figure size 432x288 with 2 Axes>"
      ]
     },
     "metadata": {
      "needs_background": "light"
     },
     "output_type": "display_data"
    }
   ],
   "source": [
    "from sklearn.naive_bayes import GaussianNB\n",
    "nb = GaussianNB()\n",
    "nb.fit(x_tr, y_tr)\n",
    "\n",
    "y_pred = nb.predict(x_te)\n",
    "print(confusion_matrix(y_te,y_pred))\n",
    "plot_confusion_matrix(nb,x_te,y_te)\n",
    "print('Accuracy is {:.2f}'.format(accuracy_score(y_te,y_pred)))"
   ]
  },
  {
   "cell_type": "markdown",
   "metadata": {},
   "source": [
    "# AdaBoost "
   ]
  },
  {
   "cell_type": "code",
   "execution_count": 12,
   "metadata": {
    "scrolled": true
   },
   "outputs": [
    {
     "name": "stderr",
     "output_type": "stream",
     "text": [
      "C:\\Users\\motur\\Anaconda3\\lib\\site-packages\\sklearn\\model_selection\\_split.py:297: FutureWarning: Setting a random_state has no effect since shuffle is False. This will raise an error in 0.24. You should leave random_state to its default (None), or set shuffle=True.\n",
      "  FutureWarning\n"
     ]
    },
    {
     "name": "stdout",
     "output_type": "stream",
     "text": [
      "[[1011  194]\n",
      " [ 208  820]]\n",
      "0.8199731303179579\n"
     ]
    }
   ],
   "source": [
    "from sklearn import model_selection\n",
    "from sklearn.ensemble import AdaBoostClassifier\n",
    "kfold = model_selection.KFold(n_splits=10, random_state=7)\n",
    "model = AdaBoostClassifier(n_estimators=30, random_state=7)\n",
    "\n",
    "model.fit(x_tr, y_tr)\n",
    "y_pred  =  model.predict(x_te)\n",
    "print(confusion_matrix(y_te, y_pred))\n",
    "print(accuracy_score(y_te,y_pred))"
   ]
  },
  {
   "cell_type": "markdown",
   "metadata": {},
   "source": [
    "# Randomforest"
   ]
  },
  {
   "cell_type": "code",
   "execution_count": 13,
   "metadata": {},
   "outputs": [
    {
     "name": "stdout",
     "output_type": "stream",
     "text": [
      "[[1002  203]\n",
      " [ 118  910]]\n",
      "Accuracy : 0.86\n"
     ]
    },
    {
     "data": {
      "text/plain": [
       "<sklearn.metrics._plot.confusion_matrix.ConfusionMatrixDisplay at 0x2140ff8fd88>"
      ]
     },
     "execution_count": 13,
     "metadata": {},
     "output_type": "execute_result"
    },
    {
     "data": {
      "image/png": "[encoded data removed]",
      "text/plain": [
       "<Figure size 432x288 with 2 Axes>"
      ]
     },
     "metadata": {
      "needs_background": "light"
     },
     "output_type": "display_data"
    }
   ],
   "source": [
    "from sklearn.ensemble import RandomForestClassifier\n",
    "rfc = RandomForestClassifier(n_estimators=300)\n",
    "rfc.fit(x_tr,y_tr)\n",
    "\n",
    "y_pred = rfc.predict(x_te)\n",
    "\n",
    "print(confusion_matrix(y_te,y_pred))\n",
    "print('Accuracy : {:.2f}'.format(accuracy_score(y_te,y_pred)))\n",
    "plot_confusion_matrix(rfc,x_te,y_te)"
   ]
  },
  {
   "cell_type": "code",
   "execution_count": 14,
   "metadata": {
    "scrolled": true
   },
   "outputs": [
    {
     "name": "stdout",
     "output_type": "stream",
     "text": [
      "Accuracy : 0.77\n",
      "[[984 221]\n",
      " [300 728]]\n"
     ]
    },
    {
     "data": {
      "image/png": "[encoded data removed]",
      "text/plain": [
       "<Figure size 432x288 with 2 Axes>"
      ]
     },
     "metadata": {
      "needs_background": "light"
     },
     "output_type": "display_data"
    }
   ],
   "source": [
    "from sklearn.neighbors import KNeighborsClassifier\n",
    "knn=KNeighborsClassifier(n_neighbors=5)\n",
    "knn.fit(x_tr,y_tr)\n",
    "y_pred=knn.predict(x_te)\n",
    "\n",
    "from sklearn.metrics import confusion_matrix,classification_report,accuracy_score,plot_confusion_matrix\n",
    "plot_confusion_matrix(knn,x_te,y_te)\n",
    "print('Accuracy : {:.2f}'.format(accuracy_score(y_te,y_pred)))\n",
    "print(confusion_matrix(y_te,y_pred))"
   ]
  },
  {
   "cell_type": "markdown",
   "metadata": {},
   "source": [
    "# Decision Tree"
   ]
  },
  {
   "cell_type": "code",
   "execution_count": 16,
   "metadata": {},
   "outputs": [
    {
     "name": "stdout",
     "output_type": "stream",
     "text": [
      "[[967 238]\n",
      " [274 754]]\n",
      "Accuracy : 0.77\n"
     ]
    },
    {
     "data": {
      "text/plain": [
       "<sklearn.metrics._plot.confusion_matrix.ConfusionMatrixDisplay at 0x2141042bfc8>"
      ]
     },
     "execution_count": 16,
     "metadata": {},
     "output_type": "execute_result"
    },
    {
     "data": {
      "image/png": "[encoded data removed]",
      "text/plain": [
       "<Figure size 432x288 with 2 Axes>"
      ]
     },
     "metadata": {
      "needs_background": "light"
     },
     "output_type": "display_data"
    }
   ],
   "source": [
    "from sklearn.tree import DecisionTreeClassifier\n",
    "dtree = DecisionTreeClassifier()\n",
    "dtree.fit(x_tr,y_tr)\n",
    "\n",
    "y_pred = dtree.predict(x_te)\n",
    "\n",
    "print(confusion_matrix(y_te,y_pred))\n",
    "print('Accuracy : {:.2f}'.format(accuracy_score(y_te,y_pred)))\n",
    "plot_confusion_matrix(dtree,x_te,y_te)"
   ]
  },
  {
   "cell_type": "markdown",
   "metadata": {},
   "source": [
    "# ANN"
   ]
  },
  {
   "cell_type": "code",
   "execution_count": 17,
   "metadata": {
    "collapsed": true
   },
   "outputs": [
    {
     "name": "stdout",
     "output_type": "stream",
     "text": [
      "Epoch 1/150\n",
      "893/893 [==============================] - 3s 2ms/step - loss: 0.5699 - accuracy: 0.6941\n",
      "Epoch 2/150\n",
      "893/893 [==============================] - 2s 2ms/step - loss: 0.4720 - accuracy: 0.7816\n",
      "Epoch 3/150\n",
      "893/893 [==============================] - 2s 2ms/step - loss: 0.4703 - accuracy: 0.7894\n",
      "Epoch 4/150\n",
      "893/893 [==============================] - 2s 2ms/step - loss: 0.4751 - accuracy: 0.7744\n",
      "Epoch 5/150\n",
      "893/893 [==============================] - 2s 2ms/step - loss: 0.4592 - accuracy: 0.7886\n",
      "Epoch 6/150\n",
      "893/893 [==============================] - 2s 2ms/step - loss: 0.4536 - accuracy: 0.7935\n",
      "Epoch 7/150\n",
      "893/893 [==============================] - 2s 2ms/step - loss: 0.4462 - accuracy: 0.8007\n",
      "Epoch 8/150\n",
      "893/893 [==============================] - 2s 2ms/step - loss: 0.4510 - accuracy: 0.7919\n",
      "Epoch 9/150\n",
      "893/893 [==============================] - 2s 2ms/step - loss: 0.4368 - accuracy: 0.8051\n",
      "Epoch 10/150\n",
      "893/893 [==============================] - 2s 2ms/step - loss: 0.4459 - accuracy: 0.7949\n",
      "Epoch 11/150\n",
      "893/893 [==============================] - 2s 2ms/step - loss: 0.4347 - accuracy: 0.8042\n",
      "Epoch 12/150\n",
      "893/893 [==============================] - 2s 2ms/step - loss: 0.4392 - accuracy: 0.8030\n",
      "Epoch 13/150\n",
      "893/893 [==============================] - 2s 2ms/step - loss: 0.4457 - accuracy: 0.7969\n",
      "Epoch 14/150\n",
      "893/893 [==============================] - 2s 2ms/step - loss: 0.4251 - accuracy: 0.8118\n",
      "Epoch 15/150\n",
      "893/893 [==============================] - 2s 2ms/step - loss: 0.4337 - accuracy: 0.8061\n",
      "Epoch 16/150\n",
      "893/893 [==============================] - 2s 2ms/step - loss: 0.4341 - accuracy: 0.8045\n",
      "Epoch 17/150\n",
      "893/893 [==============================] - 2s 2ms/step - loss: 0.4287 - accuracy: 0.8093\n",
      "Epoch 18/150\n",
      "893/893 [==============================] - 2s 2ms/step - loss: 0.4304 - accuracy: 0.8032\n",
      "Epoch 19/150\n",
      "893/893 [==============================] - ETA: 0s - loss: 0.4389 - accuracy: 0.79 - 2s 2ms/step - loss: 0.4388 - accuracy: 0.7987\n",
      "Epoch 20/150\n",
      "893/893 [==============================] - 2s 2ms/step - loss: 0.4258 - accuracy: 0.8093\n",
      "Epoch 21/150\n",
      "893/893 [==============================] - 2s 2ms/step - loss: 0.4315 - accuracy: 0.8007\n",
      "Epoch 22/150\n",
      "893/893 [==============================] - 2s 2ms/step - loss: 0.4313 - accuracy: 0.8031\n",
      "Epoch 23/150\n",
      "893/893 [==============================] - 2s 2ms/step - loss: 0.4407 - accuracy: 0.8002\n",
      "Epoch 24/150\n",
      "893/893 [==============================] - 2s 2ms/step - loss: 0.4249 - accuracy: 0.8095\n",
      "Epoch 25/150\n",
      "893/893 [==============================] - 2s 2ms/step - loss: 0.4215 - accuracy: 0.8160\n",
      "Epoch 26/150\n",
      "893/893 [==============================] - 2s 2ms/step - loss: 0.4349 - accuracy: 0.8051\n",
      "Epoch 27/150\n",
      "893/893 [==============================] - 2s 2ms/step - loss: 0.4182 - accuracy: 0.8127\n",
      "Epoch 28/150\n",
      "893/893 [==============================] - 2s 2ms/step - loss: 0.4371 - accuracy: 0.8008\n",
      "Epoch 29/150\n",
      "893/893 [==============================] - 2s 2ms/step - loss: 0.4173 - accuracy: 0.8143\n",
      "Epoch 30/150\n",
      "893/893 [==============================] - 2s 2ms/step - loss: 0.4267 - accuracy: 0.8013\n",
      "Epoch 31/150\n",
      "893/893 [==============================] - 2s 2ms/step - loss: 0.4293 - accuracy: 0.8063\n",
      "Epoch 32/150\n",
      "893/893 [==============================] - 1s 1ms/step - loss: 0.4218 - accuracy: 0.8085\n",
      "Epoch 33/150\n",
      "893/893 [==============================] - 1s 834us/step - loss: 0.4271 - accuracy: 0.8057\n",
      "Epoch 34/150\n",
      "893/893 [==============================] - 1s 1ms/step - loss: 0.4202 - accuracy: 0.8115\n",
      "Epoch 35/150\n",
      "893/893 [==============================] - 1s 1ms/step - loss: 0.4315 - accuracy: 0.8048\n",
      "Epoch 36/150\n",
      "893/893 [==============================] - 1s 998us/step - loss: 0.4209 - accuracy: 0.8050\n",
      "Epoch 37/150\n",
      "893/893 [==============================] - 1s 809us/step - loss: 0.4171 - accuracy: 0.8117\n",
      "Epoch 38/150\n",
      "893/893 [==============================] - 1s 1ms/step - loss: 0.4102 - accuracy: 0.8134\n",
      "Epoch 39/150\n",
      "893/893 [==============================] - 1s 1ms/step - loss: 0.4185 - accuracy: 0.8145\n",
      "Epoch 40/150\n",
      "893/893 [==============================] - 1s 1ms/step - loss: 0.4235 - accuracy: 0.8083\n",
      "Epoch 41/150\n",
      "893/893 [==============================] - 1s 1ms/step - loss: 0.4178 - accuracy: 0.8117\n",
      "Epoch 42/150\n",
      "893/893 [==============================] - 1s 908us/step - loss: 0.4116 - accuracy: 0.8141\n",
      "Epoch 43/150\n",
      "893/893 [==============================] - 1s 939us/step - loss: 0.4183 - accuracy: 0.8117\n",
      "Epoch 44/150\n",
      "893/893 [==============================] - 1s 895us/step - loss: 0.4132 - accuracy: 0.8127\n",
      "Epoch 45/150\n",
      "893/893 [==============================] - 1s 889us/step - loss: 0.4220 - accuracy: 0.8055\n",
      "Epoch 46/150\n",
      "893/893 [==============================] - 2s 2ms/step - loss: 0.4152 - accuracy: 0.8100\n",
      "Epoch 47/150\n",
      "893/893 [==============================] - 1s 1ms/step - loss: 0.4170 - accuracy: 0.8153\n",
      "Epoch 48/150\n",
      "893/893 [==============================] - 1s 1ms/step - loss: 0.4017 - accuracy: 0.8248\n",
      "Epoch 49/150\n",
      "893/893 [==============================] - 1s 1ms/step - loss: 0.4103 - accuracy: 0.8119\n",
      "Epoch 50/150\n",
      "893/893 [==============================] - 1s 1ms/step - loss: 0.4139 - accuracy: 0.8078\n",
      "Epoch 51/150\n",
      "893/893 [==============================] - 1s 1ms/step - loss: 0.4141 - accuracy: 0.8122\n",
      "Epoch 52/150\n",
      "893/893 [==============================] - 1s 1ms/step - loss: 0.4142 - accuracy: 0.8058\n",
      "Epoch 53/150\n",
      "893/893 [==============================] - 2s 2ms/step - loss: 0.4040 - accuracy: 0.8168\n",
      "Epoch 54/150\n",
      "893/893 [==============================] - 2s 2ms/step - loss: 0.4122 - accuracy: 0.8095\n",
      "Epoch 55/150\n",
      "893/893 [==============================] - 1s 2ms/step - loss: 0.4132 - accuracy: 0.8147\n",
      "Epoch 56/150\n",
      "893/893 [==============================] - 2s 2ms/step - loss: 0.4137 - accuracy: 0.8086\n",
      "Epoch 57/150\n",
      "893/893 [==============================] - 2s 2ms/step - loss: 0.3955 - accuracy: 0.8207\n",
      "Epoch 58/150\n",
      "893/893 [==============================] - 2s 2ms/step - loss: 0.4184 - accuracy: 0.8107\n",
      "Epoch 59/150\n",
      "893/893 [==============================] - 2s 2ms/step - loss: 0.4178 - accuracy: 0.8089\n",
      "Epoch 60/150\n",
      "893/893 [==============================] - 2s 2ms/step - loss: 0.4154 - accuracy: 0.8115\n",
      "Epoch 61/150\n",
      "893/893 [==============================] - 2s 2ms/step - loss: 0.4099 - accuracy: 0.8143\n",
      "Epoch 62/150\n",
      "893/893 [==============================] - 2s 2ms/step - loss: 0.3937 - accuracy: 0.8194\n",
      "Epoch 63/150\n",
      "893/893 [==============================] - 2s 2ms/step - loss: 0.4055 - accuracy: 0.8151\n",
      "Epoch 64/150\n",
      "893/893 [==============================] - 1s 2ms/step - loss: 0.4015 - accuracy: 0.8199\n",
      "Epoch 65/150\n",
      "893/893 [==============================] - 2s 2ms/step - loss: 0.3911 - accuracy: 0.8239\n",
      "Epoch 66/150\n",
      "893/893 [==============================] - 2s 2ms/step - loss: 0.4017 - accuracy: 0.8145\n",
      "Epoch 67/150\n",
      "893/893 [==============================] - 2s 2ms/step - loss: 0.4060 - accuracy: 0.8113\n",
      "Epoch 68/150\n",
      "893/893 [==============================] - 1s 1ms/step - loss: 0.4047 - accuracy: 0.8181\n",
      "Epoch 69/150\n",
      "893/893 [==============================] - 2s 2ms/step - loss: 0.3966 - accuracy: 0.8217\n",
      "Epoch 70/150\n",
      "893/893 [==============================] - 2s 2ms/step - loss: 0.4017 - accuracy: 0.8174\n",
      "Epoch 71/150\n",
      "893/893 [==============================] - 2s 2ms/step - loss: 0.3940 - accuracy: 0.8259\n",
      "Epoch 72/150\n",
      "893/893 [==============================] - 2s 2ms/step - loss: 0.3997 - accuracy: 0.8220\n",
      "Epoch 73/150\n",
      "893/893 [==============================] - 2s 2ms/step - loss: 0.4014 - accuracy: 0.8146\n",
      "Epoch 74/150\n",
      "893/893 [==============================] - 2s 2ms/step - loss: 0.3940 - accuracy: 0.8164\n",
      "Epoch 75/150\n",
      "893/893 [==============================] - 2s 2ms/step - loss: 0.4000 - accuracy: 0.8195\n",
      "Epoch 76/150\n",
      "893/893 [==============================] - 2s 2ms/step - loss: 0.3892 - accuracy: 0.8241\n",
      "Epoch 77/150\n",
      "893/893 [==============================] - 2s 2ms/step - loss: 0.4057 - accuracy: 0.8170\n",
      "Epoch 78/150\n",
      "893/893 [==============================] - 2s 2ms/step - loss: 0.4007 - accuracy: 0.8136\n",
      "Epoch 79/150\n",
      "893/893 [==============================] - 2s 2ms/step - loss: 0.3946 - accuracy: 0.8195\n",
      "Epoch 80/150\n",
      "893/893 [==============================] - 2s 2ms/step - loss: 0.3905 - accuracy: 0.8267\n",
      "Epoch 81/150\n",
      "893/893 [==============================] - 1s 2ms/step - loss: 0.3942 - accuracy: 0.8203\n",
      "Epoch 82/150\n",
      "893/893 [==============================] - 2s 2ms/step - loss: 0.3917 - accuracy: 0.8239\n",
      "Epoch 83/150\n",
      "893/893 [==============================] - 2s 2ms/step - loss: 0.3827 - accuracy: 0.8286\n",
      "Epoch 84/150\n",
      "893/893 [==============================] - 1s 2ms/step - loss: 0.3941 - accuracy: 0.8252\n",
      "Epoch 85/150\n",
      "893/893 [==============================] - 1s 2ms/step - loss: 0.3879 - accuracy: 0.8208\n",
      "Epoch 86/150\n",
      "893/893 [==============================] - 1s 2ms/step - loss: 0.3932 - accuracy: 0.8190\n",
      "Epoch 87/150\n",
      "893/893 [==============================] - 2s 2ms/step - loss: 0.3929 - accuracy: 0.8231\n",
      "Epoch 88/150\n",
      "893/893 [==============================] - 2s 2ms/step - loss: 0.3948 - accuracy: 0.8219\n",
      "Epoch 89/150\n",
      "893/893 [==============================] - 2s 2ms/step - loss: 0.3938 - accuracy: 0.8142\n",
      "Epoch 90/150\n",
      "893/893 [==============================] - 1s 1ms/step - loss: 0.4013 - accuracy: 0.8188\n",
      "Epoch 91/150\n",
      "893/893 [==============================] - 2s 2ms/step - loss: 0.3943 - accuracy: 0.8251\n",
      "Epoch 92/150\n",
      "893/893 [==============================] - 2s 2ms/step - loss: 0.3854 - accuracy: 0.8243\n",
      "Epoch 93/150\n",
      "893/893 [==============================] - 2s 2ms/step - loss: 0.3801 - accuracy: 0.8277\n",
      "Epoch 94/150\n",
      "893/893 [==============================] - 2s 2ms/step - loss: 0.3948 - accuracy: 0.8215\n",
      "Epoch 95/150\n",
      "893/893 [==============================] - 2s 2ms/step - loss: 0.3891 - accuracy: 0.8229\n",
      "Epoch 96/150\n",
      "893/893 [==============================] - 2s 2ms/step - loss: 0.3693 - accuracy: 0.8357\n",
      "Epoch 97/150\n",
      "893/893 [==============================] - 2s 2ms/step - loss: 0.3806 - accuracy: 0.8326\n",
      "Epoch 98/150\n",
      "893/893 [==============================] - 2s 2ms/step - loss: 0.3863 - accuracy: 0.8222\n",
      "Epoch 99/150\n",
      "893/893 [==============================] - 2s 2ms/step - loss: 0.3902 - accuracy: 0.8234\n",
      "Epoch 100/150\n",
      "893/893 [==============================] - 2s 2ms/step - loss: 0.3851 - accuracy: 0.8253\n",
      "Epoch 101/150\n",
      "893/893 [==============================] - 2s 2ms/step - loss: 0.3856 - accuracy: 0.8284\n",
      "Epoch 102/150\n",
      "893/893 [==============================] - 2s 2ms/step - loss: 0.3831 - accuracy: 0.8263\n",
      "Epoch 103/150\n",
      "893/893 [==============================] - 2s 2ms/step - loss: 0.3871 - accuracy: 0.8230\n",
      "Epoch 104/150\n",
      "893/893 [==============================] - 2s 2ms/step - loss: 0.3889 - accuracy: 0.8257\n",
      "Epoch 105/150\n",
      "893/893 [==============================] - 2s 2ms/step - loss: 0.3863 - accuracy: 0.8229\n",
      "Epoch 106/150\n",
      "893/893 [==============================] - 2s 2ms/step - loss: 0.3770 - accuracy: 0.8271\n",
      "Epoch 107/150\n",
      "893/893 [==============================] - 2s 2ms/step - loss: 0.3774 - accuracy: 0.8255\n",
      "Epoch 108/150\n",
      "893/893 [==============================] - 2s 2ms/step - loss: 0.3869 - accuracy: 0.8230\n",
      "Epoch 109/150\n",
      "893/893 [==============================] - 2s 2ms/step - loss: 0.3899 - accuracy: 0.8218\n",
      "Epoch 110/150\n",
      "893/893 [==============================] - 2s 2ms/step - loss: 0.3818 - accuracy: 0.8262\n",
      "Epoch 111/150\n",
      "893/893 [==============================] - 2s 2ms/step - loss: 0.3837 - accuracy: 0.8283\n",
      "Epoch 112/150\n",
      "893/893 [==============================] - 2s 2ms/step - loss: 0.3837 - accuracy: 0.8274\n",
      "Epoch 113/150\n",
      "893/893 [==============================] - 2s 2ms/step - loss: 0.3819 - accuracy: 0.8268\n",
      "Epoch 114/150\n",
      "893/893 [==============================] - 1s 2ms/step - loss: 0.3678 - accuracy: 0.8349\n",
      "Epoch 115/150\n",
      "893/893 [==============================] - 2s 2ms/step - loss: 0.3701 - accuracy: 0.8410\n",
      "Epoch 116/150\n",
      "893/893 [==============================] - 2s 2ms/step - loss: 0.3732 - accuracy: 0.8333\n",
      "Epoch 117/150\n",
      "893/893 [==============================] - 2s 2ms/step - loss: 0.3620 - accuracy: 0.8381\n",
      "Epoch 118/150\n",
      "893/893 [==============================] - 1s 1ms/step - loss: 0.3706 - accuracy: 0.8362\n",
      "Epoch 119/150\n",
      "893/893 [==============================] - 2s 2ms/step - loss: 0.3811 - accuracy: 0.8270\n",
      "Epoch 120/150\n",
      "893/893 [==============================] - 2s 2ms/step - loss: 0.3763 - accuracy: 0.8317\n",
      "Epoch 121/150\n",
      "893/893 [==============================] - 2s 2ms/step - loss: 0.3735 - accuracy: 0.8315\n",
      "Epoch 122/150\n",
      "893/893 [==============================] - 2s 2ms/step - loss: 0.3709 - accuracy: 0.8283\n",
      "Epoch 123/150\n",
      "893/893 [==============================] - 2s 2ms/step - loss: 0.3742 - accuracy: 0.8322\n",
      "Epoch 124/150\n",
      "893/893 [==============================] - 2s 2ms/step - loss: 0.3716 - accuracy: 0.8343\n",
      "Epoch 125/150\n",
      "893/893 [==============================] - 2s 2ms/step - loss: 0.3819 - accuracy: 0.8217\n",
      "Epoch 126/150\n",
      "893/893 [==============================] - 2s 2ms/step - loss: 0.3702 - accuracy: 0.8363\n",
      "Epoch 127/150\n",
      "893/893 [==============================] - 2s 2ms/step - loss: 0.3748 - accuracy: 0.8339\n",
      "Epoch 128/150\n",
      "893/893 [==============================] - 2s 2ms/step - loss: 0.3839 - accuracy: 0.8218\n",
      "Epoch 129/150\n",
      "893/893 [==============================] - 2s 2ms/step - loss: 0.3781 - accuracy: 0.8374\n",
      "Epoch 130/150\n",
      "893/893 [==============================] - 2s 2ms/step - loss: 0.3680 - accuracy: 0.8330\n",
      "Epoch 131/150\n",
      "893/893 [==============================] - 2s 2ms/step - loss: 0.3709 - accuracy: 0.8327\n",
      "Epoch 132/150\n",
      "893/893 [==============================] - 2s 2ms/step - loss: 0.3695 - accuracy: 0.8379\n",
      "Epoch 133/150\n",
      "893/893 [==============================] - 2s 2ms/step - loss: 0.3683 - accuracy: 0.8374\n",
      "Epoch 134/150\n",
      "893/893 [==============================] - 2s 2ms/step - loss: 0.3686 - accuracy: 0.8334\n",
      "Epoch 135/150\n",
      "893/893 [==============================] - 1s 1ms/step - loss: 0.3708 - accuracy: 0.8304\n",
      "Epoch 136/150\n",
      "893/893 [==============================] - 1s 2ms/step - loss: 0.3653 - accuracy: 0.8364\n",
      "Epoch 137/150\n",
      "893/893 [==============================] - 1s 1ms/step - loss: 0.3570 - accuracy: 0.8416\n",
      "Epoch 138/150\n",
      "893/893 [==============================] - 1s 1ms/step - loss: 0.3666 - accuracy: 0.8374\n",
      "Epoch 139/150\n",
      "893/893 [==============================] - 1s 1ms/step - loss: 0.3713 - accuracy: 0.8405\n",
      "Epoch 140/150\n",
      "893/893 [==============================] - 1s 1ms/step - loss: 0.3713 - accuracy: 0.8292\n",
      "Epoch 141/150\n",
      "893/893 [==============================] - 1s 2ms/step - loss: 0.3613 - accuracy: 0.8340\n",
      "Epoch 142/150\n",
      "893/893 [==============================] - 1s 1ms/step - loss: 0.3580 - accuracy: 0.8413\n",
      "Epoch 143/150\n",
      "893/893 [==============================] - 1s 1ms/step - loss: 0.3506 - accuracy: 0.8439\n",
      "Epoch 144/150\n",
      "893/893 [==============================] - 1s 1ms/step - loss: 0.3660 - accuracy: 0.8327\n",
      "Epoch 145/150\n",
      "893/893 [==============================] - 1s 2ms/step - loss: 0.3628 - accuracy: 0.8347\n",
      "Epoch 146/150\n",
      "893/893 [==============================] - 2s 2ms/step - loss: 0.3714 - accuracy: 0.8337\n",
      "Epoch 147/150\n",
      "893/893 [==============================] - 1s 2ms/step - loss: 0.3709 - accuracy: 0.8340\n",
      "Epoch 148/150\n",
      "893/893 [==============================] - 1s 1ms/step - loss: 0.3639 - accuracy: 0.8386\n",
      "Epoch 149/150\n",
      "893/893 [==============================] - 1s 1ms/step - loss: 0.3566 - accuracy: 0.8407\n",
      "Epoch 150/150\n",
      "893/893 [==============================] - 1s 1ms/step - loss: 0.3648 - accuracy: 0.8402\n"
     ]
    }
   ],
   "source": [
    "x = df.drop(['housing','deposit','month','poutcome','marital','contact'],axis=1)\n",
    "y = df['deposit']\n",
    "x = pd.get_dummies(x)\n",
    "\n",
    "from sklearn.model_selection import train_test_split\n",
    "x_train, x_test, y_train, y_test = train_test_split(x, y, test_size=0.20, random_state=0)\n",
    "\n",
    "from sklearn.preprocessing import StandardScaler\n",
    "sc_x = StandardScaler()\n",
    "x_train = pd.DataFrame(sc_x.fit_transform(x_train), columns=x.columns.values)\n",
    "x_test = pd.DataFrame(sc_x.transform(x_test), columns=x.columns.values)\n",
    "\n",
    "import keras\n",
    "from keras.models import Sequential\n",
    "from keras.layers import Dense\n",
    "from keras.layers import Dropout\n",
    "\n",
    "model = Sequential()\n",
    "model.add(Dense(units = 13,kernel_initializer = 'uniform',activation = 'relu', input_dim = 25))\n",
    "model.add(Dense(units = 29,kernel_initializer = 'uniform',activation = 'relu'))\n",
    "model.add(Dense(units = 42,kernel_initializer = 'uniform',activation = 'relu'))\n",
    "\n",
    "model.add(Dense(units = 1,kernel_initializer = 'uniform',activation = 'sigmoid'))\n",
    "\n",
    "model.compile(optimizer = 'adam', loss = 'binary_crossentropy', metrics = ['accuracy'])\n",
    "\n",
    "model.fit(x_train, y_train, batch_size = 10, epochs = 150)\n",
    "\n",
    "y_pred = model.predict(x_test)\n",
    "y_pred = (y_pred > 0.5) \n"
   ]
  },
  {
   "cell_type": "code",
   "execution_count": 18,
   "metadata": {},
   "outputs": [
    {
     "name": "stdout",
     "output_type": "stream",
     "text": [
      "[[932 273]\n",
      " [231 797]]\n",
      "0.774294670846395\n"
     ]
    }
   ],
   "source": [
    "print(confusion_matrix(y_test,y_pred))\n",
    "print(accuracy_score(y_test, y_pred))\n"
   ]
  },
  {
   "cell_type": "code",
   "execution_count": null,
   "metadata": {},
   "outputs": [],
   "source": []
  }
 ],
 "metadata": {
  "kernelspec": {
   "display_name": "Python 3",
   "language": "python",
   "name": "python3"
  },
  "language_info": {
   "codemirror_mode": {
    "name": "ipython",
    "version": 3
   },
   "file_extension": ".py",
   "mimetype": "text/x-python",
   "name": "python",
   "nbconvert_exporter": "python",
   "pygments_lexer": "ipython3",
   "version": "3.7.7"
  }
 },
 "nbformat": 4,
 "nbformat_minor": 4
}
